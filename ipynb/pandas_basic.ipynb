{
 "cells": [
  {
   "cell_type": "code",
   "execution_count": 1,
   "metadata": {
    "collapsed": true
   },
   "outputs": [],
   "source": [
    "from pandas import Series, DataFrame\n",
    "import pandas as pd\n"
   ]
  },
  {
   "cell_type": "code",
   "execution_count": 5,
   "metadata": {
    "collapsed": false
   },
   "outputs": [
    {
     "data": {
      "text/plain": [
       "Index([u'b', u'c'], dtype='object')"
      ]
     },
     "execution_count": 5,
     "metadata": {},
     "output_type": "execute_result"
    }
   ],
   "source": [
    "##索引对象  主要负责管理轴坐标和其它元数据， 构建Series或者DataFrame时，所用到的任何数组或者其它序列的标签都会被转换成一个Index\n",
    "## Index对象是不可改变的(immutable),不可修改性非常重要，这样才能是Index对象在多个数据结构之间安全共享\n",
    "obj = Series(range(3),index=['a','b','c'])\n",
    "index = obj.index\n",
    "index\n",
    "index[1:]"
   ]
  },
  {
   "cell_type": "code",
   "execution_count": 12,
   "metadata": {
    "collapsed": false
   },
   "outputs": [
    {
     "data": {
      "text/plain": [
       "0      bule\n",
       "1      bule\n",
       "2    purple\n",
       "3    purple\n",
       "4    yellow\n",
       "5    yellow\n",
       "dtype: object"
      ]
     },
     "execution_count": 12,
     "metadata": {},
     "output_type": "execute_result"
    }
   ],
   "source": [
    "## 重新索引功能\n",
    "obj = Series([4.5,7.2,-5.3,3.6], index=['d','b','a','c'])\n",
    "obj\n",
    "obj2 = obj.reindex(['a','b','c','d','e'])\n",
    "obj2\n",
    "obj3 = obj.reindex(['a','b','c','d','e'],fill_value=0)\n",
    "obj3\n",
    "obj4 = Series(['bule','purple','yellow'], index = [0,2,4])\n",
    "obj4.reindex(range(6),method = 'ffill')   ## method 填充方法， ffill,pad  前向填充 ； bfill,back后向填充"
   ]
  },
  {
   "cell_type": "code",
   "execution_count": null,
   "metadata": {
    "collapsed": true
   },
   "outputs": [],
   "source": []
  }
 ],
 "metadata": {
  "kernelspec": {
   "display_name": "Python 2",
   "language": "python",
   "name": "python2"
  },
  "language_info": {
   "codemirror_mode": {
    "name": "ipython",
    "version": 2
   },
   "file_extension": ".py",
   "mimetype": "text/x-python",
   "name": "python",
   "nbconvert_exporter": "python",
   "pygments_lexer": "ipython2",
   "version": "2.7.13"
  }
 },
 "nbformat": 4,
 "nbformat_minor": 2
}
